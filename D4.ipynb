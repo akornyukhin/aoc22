{
 "cells": [
  {
   "cell_type": "markdown",
   "id": "a92518d5",
   "metadata": {},
   "source": [
    "# Challenge 1"
   ]
  },
  {
   "cell_type": "code",
   "execution_count": 79,
   "id": "b23f8908",
   "metadata": {},
   "outputs": [],
   "source": [
    "with open(\"./data/data_d4.txt\") as f:\n",
    "    lines = f.readlines()\n",
    "\n",
    "for i in range(0, len(lines)):\n",
    "    lines[i] = lines[i].replace(\"\\n\", \"\")"
   ]
  },
  {
   "cell_type": "code",
   "execution_count": 117,
   "id": "923da451",
   "metadata": {},
   "outputs": [
    {
     "data": {
      "text/plain": [
       "534"
      ]
     },
     "execution_count": 117,
     "metadata": {},
     "output_type": "execute_result"
    }
   ],
   "source": [
    "result = 0\n",
    "for line in lines:\n",
    "    firstElfRange = (int(line.split(\",\")[0].split(\"-\")[0]), int(line.split(\",\")[0].split(\"-\")[1]))\n",
    "    secondElfRange = (int(line.split(\",\")[1].split(\"-\")[0]), int(line.split(\",\")[1].split(\"-\")[1]))\n",
    "    \n",
    "    overlapRange = (min(firstElfRange[0], secondElfRange[0]), max(firstElfRange[1], secondElfRange[1]))\n",
    "    \n",
    "    if overlapRange == firstElfRange or overlapRange == secondElfRange:\n",
    "        result+=1\n",
    "                                         \n",
    "result"
   ]
  },
  {
   "cell_type": "markdown",
   "id": "b0e74129",
   "metadata": {},
   "source": [
    "# Challenge 2"
   ]
  },
  {
   "cell_type": "code",
   "execution_count": 121,
   "id": "d4246c3c",
   "metadata": {},
   "outputs": [
    {
     "data": {
      "text/plain": [
       "841"
      ]
     },
     "execution_count": 121,
     "metadata": {},
     "output_type": "execute_result"
    }
   ],
   "source": [
    "result = 0\n",
    "for line in lines:\n",
    "    firstElfRange = (int(line.split(\",\")[0].split(\"-\")[0]), int(line.split(\",\")[0].split(\"-\")[1]))\n",
    "    secondElfRange = (int(line.split(\",\")[1].split(\"-\")[0]), int(line.split(\",\")[1].split(\"-\")[1]))\n",
    "    \n",
    "    firstElf = set([i for i in range(firstElfRange[0], firstElfRange[1]+1)])\n",
    "    secondElf = set([i for i in range(secondElfRange[0], secondElfRange[1]+1)])\n",
    "    \n",
    "    if len(firstElf.intersection(secondElf)) != 0:\n",
    "        result += 1\n",
    "\n",
    "result"
   ]
  },
  {
   "cell_type": "code",
   "execution_count": null,
   "id": "354df509",
   "metadata": {},
   "outputs": [],
   "source": []
  }
 ],
 "metadata": {
  "kernelspec": {
   "display_name": "Python 3 (ipykernel)",
   "language": "python",
   "name": "python3"
  },
  "language_info": {
   "codemirror_mode": {
    "name": "ipython",
    "version": 3
   },
   "file_extension": ".py",
   "mimetype": "text/x-python",
   "name": "python",
   "nbconvert_exporter": "python",
   "pygments_lexer": "ipython3",
   "version": "3.9.7"
  }
 },
 "nbformat": 4,
 "nbformat_minor": 5
}
