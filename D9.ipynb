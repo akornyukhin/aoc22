{
 "cells": [
  {
   "cell_type": "code",
   "execution_count": 75,
   "id": "b8519ab9",
   "metadata": {},
   "outputs": [],
   "source": [
    "with open(\"./data/data_d9.txt\") as f:\n",
    "    lines = f.readlines()\n",
    "\n",
    "for i in range(0, len(lines)):\n",
    "    lines[i] = lines[i].replace(\"\\n\", \"\")"
   ]
  },
  {
   "cell_type": "code",
   "execution_count": 76,
   "id": "6e773b69",
   "metadata": {},
   "outputs": [],
   "source": [
    "lines = [(dirc, steps) for dirc, steps in [line.split(\" \") for line in lines]]"
   ]
  },
  {
   "cell_type": "code",
   "execution_count": 77,
   "id": "19904f2c",
   "metadata": {},
   "outputs": [
    {
     "name": "stdout",
     "output_type": "stream",
     "text": [
      "6354 2651\n"
     ]
    }
   ],
   "source": [
    "def solve(moves, knots):\n",
    "    X = [[0, 0] for _ in range(knots)]\n",
    "    visited = set()\n",
    "    for a, b in moves:\n",
    "        for _ in range(int(b)):\n",
    "            X[0][0] += {'R': 1, 'L': -1}.get(a, 0)\n",
    "            X[0][1] += {'D': 1, 'U': -1}.get(a, 0)\n",
    "            for j in range(1, knots):\n",
    "                if (X[j-1][0]-X[j][0])**2 + (X[j-1][1]-X[j][1])**2 > 2:\n",
    "                    X[j][0] += max(-1, min(1, X[j-1][0] - X[j][0]))\n",
    "                    X[j][1] += max(-1, min(1, X[j-1][1] - X[j][1]))\n",
    "            visited.add(tuple(X[-1]))\n",
    "    return len(visited)\n",
    "\n",
    "print(solve(lines, 2), solve(lines, 10))"
   ]
  }
 ],
 "metadata": {
  "kernelspec": {
   "display_name": "base",
   "language": "python",
   "name": "python3"
  },
  "language_info": {
   "codemirror_mode": {
    "name": "ipython",
    "version": 3
   },
   "file_extension": ".py",
   "mimetype": "text/x-python",
   "name": "python",
   "nbconvert_exporter": "python",
   "pygments_lexer": "ipython3",
   "version": "3.9.7 (default, Sep 16 2021, 08:50:36) \n[Clang 10.0.0 ]"
  },
  "vscode": {
   "interpreter": {
    "hash": "892f72137c0ea6d9db2f1b74b2485a88ba4fc111ae6ce58e499a734914c71b4b"
   }
  }
 },
 "nbformat": 4,
 "nbformat_minor": 5
}
