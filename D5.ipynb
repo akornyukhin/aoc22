{
 "cells": [
  {
   "cell_type": "markdown",
   "id": "71df8a3e",
   "metadata": {},
   "source": [
    "# Challenge 1"
   ]
  },
  {
   "cell_type": "markdown",
   "id": "3aabbeba",
   "metadata": {},
   "source": [
    "    [P]                 [C] [C]    \n",
    "    [W]         [B]     [G] [V] [V]\n",
    "    [V]         [T] [Z] [J] [T] [S]\n",
    "    [D] [L]     [Q] [F] [Z] [W] [R]\n",
    "    [C] [N] [R] [H] [L] [Q] [F] [G]\n",
    "[F] [M] [Z] [H] [G] [W] [L] [R] [H]\n",
    "[R] [H] [M] [C] [P] [C] [V] [N] [W]\n",
    "[W] [T] [P] [J] [C] [G] [W] [P] [J]\n",
    " 1   2   3   4   5   6   7   8   9 \n"
   ]
  },
  {
   "cell_type": "code",
   "execution_count": 47,
   "id": "44202c63",
   "metadata": {},
   "outputs": [],
   "source": [
    "array1 = [\"W\", \"R\", \"F\"]\n",
    "array2 = [\"T\", \"H\", \"M\", \"C\", \"D\", \"V\", \"W\", \"P\"]\n",
    "array3 = [\"P\", \"M\", \"Z\", \"N\", \"L\"]\n",
    "array4 = [\"J\", \"C\", \"H\", \"R\"]\n",
    "array5 = [\"C\", \"P\", \"G\", \"H\", \"Q\", \"T\", \"B\"]\n",
    "array6 = [\"G\", \"C\", \"W\", \"L\", \"F\", \"Z\"]\n",
    "array7 = [\"W\", \"V\", \"L\", \"Q\", \"Z\", \"J\", \"G\", \"C\"]\n",
    "array8 = [\"P\", \"N\", \"R\", \"F\", \"W\", \"T\", \"V\", \"C\"]\n",
    "array9 = [\"J\", \"W\", \"H\", \"G\", \"R\", \"S\", \"V\"]"
   ]
  },
  {
   "cell_type": "code",
   "execution_count": 28,
   "id": "541e91b6",
   "metadata": {},
   "outputs": [],
   "source": [
    "array_dict = {\n",
    "    1: array1,\n",
    "    2: array2,\n",
    "    3: array3,\n",
    "    4: array4,\n",
    "    5: array5,\n",
    "    6: array6,\n",
    "    7: array7,\n",
    "    8: array8,\n",
    "    9: array9\n",
    "}\n"
   ]
  },
  {
   "cell_type": "code",
   "execution_count": 29,
   "id": "a3ab6e06",
   "metadata": {},
   "outputs": [],
   "source": [
    "with open(\"./data/data_d5.txt\") as f:\n",
    "    lines = f.readlines()\n",
    "\n",
    "for i in range(0, len(lines)):\n",
    "    lines[i] = lines[i].replace(\"\\n\", \"\")"
   ]
  },
  {
   "cell_type": "code",
   "execution_count": 30,
   "id": "bf4bbb6c",
   "metadata": {},
   "outputs": [
    {
     "data": {
      "text/plain": [
       "'CVCWCRTVQ'"
      ]
     },
     "execution_count": 30,
     "metadata": {},
     "output_type": "execute_result"
    }
   ],
   "source": [
    "for line in lines:\n",
    "    amount, from_, to = int(line.split()[1]), int(line.split()[3]), int(line.split()[5])\n",
    "    for i in range(0, amount):\n",
    "        array_dict[to].append(array_dict[from_].pop())\n",
    "\n",
    "result = \"\"\n",
    "\n",
    "for value in array_dict.values():\n",
    "    result += value[-1]\n",
    "\n",
    "result"
   ]
  },
  {
   "cell_type": "markdown",
   "id": "fb1c6cc7",
   "metadata": {},
   "source": [
    "# Challenge 2"
   ]
  },
  {
   "cell_type": "code",
   "execution_count": 76,
   "id": "57c084a3",
   "metadata": {},
   "outputs": [],
   "source": [
    "array1 = [\"W\", \"R\", \"F\"]\n",
    "array2 = [\"T\", \"H\", \"M\", \"C\", \"D\", \"V\", \"W\", \"P\"]\n",
    "array3 = [\"P\", \"M\", \"Z\", \"N\", \"L\"]\n",
    "array4 = [\"J\", \"C\", \"H\", \"R\"]\n",
    "array5 = [\"C\", \"P\", \"G\", \"H\", \"Q\", \"T\", \"B\"]\n",
    "array6 = [\"G\", \"C\", \"W\", \"L\", \"F\", \"Z\"]\n",
    "array7 = [\"W\", \"V\", \"L\", \"Q\", \"Z\", \"J\", \"G\", \"C\"]\n",
    "array8 = [\"P\", \"N\", \"R\", \"F\", \"W\", \"T\", \"V\", \"C\"]\n",
    "array9 = [\"J\", \"W\", \"H\", \"G\", \"R\", \"S\", \"V\"]"
   ]
  },
  {
   "cell_type": "code",
   "execution_count": 77,
   "id": "5ee85413",
   "metadata": {},
   "outputs": [],
   "source": [
    "array_dict = {\n",
    "    1: array1,\n",
    "    2: array2,\n",
    "    3: array3,\n",
    "    4: array4,\n",
    "    5: array5,\n",
    "    6: array6,\n",
    "    7: array7,\n",
    "    8: array8,\n",
    "    9: array9\n",
    "}\n"
   ]
  },
  {
   "cell_type": "code",
   "execution_count": 78,
   "id": "c9ea61be",
   "metadata": {},
   "outputs": [
    {
     "data": {
      "text/plain": [
       "'CNSCZWLVT'"
      ]
     },
     "execution_count": 78,
     "metadata": {},
     "output_type": "execute_result"
    }
   ],
   "source": [
    "for line in lines:\n",
    "    amount, from_, to = int(line.split()[1]), int(line.split()[3]), int(line.split()[5])\n",
    "    array_dict[to] += array_dict[from_][-amount:]\n",
    "    del array_dict[from_][len(array_dict[from_]) - amount:]\n",
    "\n",
    "result = \"\"\n",
    "\n",
    "for value in array_dict.values():\n",
    "    result += value[-1]\n",
    "\n",
    "result"
   ]
  },
  {
   "cell_type": "code",
   "execution_count": null,
   "id": "40f2f9cc",
   "metadata": {},
   "outputs": [],
   "source": []
  }
 ],
 "metadata": {
  "kernelspec": {
   "display_name": "Python 3 (ipykernel)",
   "language": "python",
   "name": "python3"
  },
  "language_info": {
   "codemirror_mode": {
    "name": "ipython",
    "version": 3
   },
   "file_extension": ".py",
   "mimetype": "text/x-python",
   "name": "python",
   "nbconvert_exporter": "python",
   "pygments_lexer": "ipython3",
   "version": "3.9.7"
  }
 },
 "nbformat": 4,
 "nbformat_minor": 5
}
