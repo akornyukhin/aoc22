{
 "cells": [
  {
   "cell_type": "code",
   "execution_count": 321,
   "metadata": {},
   "outputs": [],
   "source": [
    "import operator\n",
    "ops = { \"+\": operator.add, \"*\": operator.mul, \"**\": operator.pow }"
   ]
  },
  {
   "cell_type": "code",
   "execution_count": 322,
   "metadata": {},
   "outputs": [],
   "source": [
    "with open(\"./data/data_d11.txt\") as f:\n",
    "    lines = f.readlines()\n",
    "\n",
    "for i in range(0, len(lines)):\n",
    "    lines[i] = lines[i].replace(\"\\n\", \"\")"
   ]
  },
  {
   "cell_type": "markdown",
   "metadata": {},
   "source": [
    "# Challenge 1"
   ]
  },
  {
   "cell_type": "code",
   "execution_count": 323,
   "metadata": {},
   "outputs": [],
   "source": [
    "monkeys = {}"
   ]
  },
  {
   "cell_type": "code",
   "execution_count": 324,
   "metadata": {},
   "outputs": [],
   "source": [
    "for i, line in enumerate(lines):\n",
    "    if line != \"\":\n",
    "        if lines[i].split()[0] == \"Monkey\":\n",
    "            operation = lines[i+2].split()[-2]\n",
    "            operationValue = lines[i+2].split()[-1]\n",
    "            if operationValue == \"old\":\n",
    "                operation = \"**\"\n",
    "                operationValue = 2\n",
    "            else:\n",
    "                operationValue = int(operationValue)\n",
    "            monkey = {\n",
    "                \"items\": [int(item.split(\",\")[0]) for item in lines[i+1].split()[2:]],\n",
    "                \"operation\": operation,\n",
    "                \"operationValue\": operationValue,\n",
    "                \"testValue\": int(lines[i+3].split()[-1]),\n",
    "                \"trueMonkeyIndex\": int(lines[i+4].split()[-1]),\n",
    "                \"falseMonkeyIndex\": int(lines[i+5].split()[-1]),\n",
    "                \"inspects\": 0\n",
    "            }\n",
    "\n",
    "            monkeys[int(lines[i].split()[1][0])] = monkey"
   ]
  },
  {
   "cell_type": "code",
   "execution_count": 325,
   "metadata": {},
   "outputs": [],
   "source": [
    "for i in range(0, 20):\n",
    "    for monkey in monkeys.values():\n",
    "        if len(monkey[\"items\"]) != 0:\n",
    "            for i in range(len(monkey[\"items\"])):\n",
    "                item = monkey[\"items\"].pop()\n",
    "                worryLevel = int(ops.get(monkey[\"operation\"])(item, monkey[\"operationValue\"]) / 3)\n",
    "                if worryLevel % monkey[\"testValue\"] == 0:\n",
    "                    monkeys[monkey[\"trueMonkeyIndex\"]][\"items\"].append(worryLevel)\n",
    "                else:\n",
    "                    monkeys[monkey[\"falseMonkeyIndex\"]][\"items\"].append(worryLevel)\n",
    "                monkey[\"inspects\"] += 1\n",
    "        "
   ]
  },
  {
   "cell_type": "code",
   "execution_count": 326,
   "metadata": {},
   "outputs": [
    {
     "data": {
      "text/plain": [
       "61005"
      ]
     },
     "execution_count": 326,
     "metadata": {},
     "output_type": "execute_result"
    }
   ],
   "source": [
    "result = 1\n",
    "for item in sorted(monkeys.values(), key=lambda x: x[\"inspects\"], reverse=True)[:2]:\n",
    "    result *= item[\"inspects\"]\n",
    "result"
   ]
  },
  {
   "attachments": {},
   "cell_type": "markdown",
   "metadata": {},
   "source": [
    "# Challenge 2"
   ]
  },
  {
   "cell_type": "code",
   "execution_count": 347,
   "metadata": {},
   "outputs": [],
   "source": [
    "monkeys = {}\n",
    "diviser = 1"
   ]
  },
  {
   "cell_type": "code",
   "execution_count": 348,
   "metadata": {},
   "outputs": [],
   "source": [
    "for i, line in enumerate(lines):\n",
    "    if line != \"\":\n",
    "        if lines[i].split()[0] == \"Monkey\":\n",
    "            operation = lines[i+2].split()[-2]\n",
    "            operationValue = lines[i+2].split()[-1]\n",
    "            if operationValue == \"old\":\n",
    "                operation = \"**\"\n",
    "                operationValue = 2\n",
    "            else:\n",
    "                operationValue = int(operationValue)\n",
    "            monkey = {\n",
    "                \"items\": [int(item.split(\",\")[0]) for item in lines[i+1].split()[2:]],\n",
    "                \"operation\": operation,\n",
    "                \"operationValue\": operationValue,\n",
    "                \"testValue\": int(lines[i+3].split()[-1]),\n",
    "                \"trueMonkeyIndex\": int(lines[i+4].split()[-1]),\n",
    "                \"falseMonkeyIndex\": int(lines[i+5].split()[-1]),\n",
    "                \"inspects\": 0\n",
    "            }\n",
    "\n",
    "            diviser *= monkey[\"testValue\"]\n",
    "            monkeys[int(lines[i].split()[1][0])] = monkey"
   ]
  },
  {
   "cell_type": "code",
   "execution_count": 349,
   "metadata": {},
   "outputs": [],
   "source": [
    "for i in range(0, 10000):\n",
    "    for monkey in monkeys.values():\n",
    "        if len(monkey[\"items\"]) != 0:\n",
    "            for i in range(len(monkey[\"items\"])):\n",
    "                item = monkey[\"items\"].pop()\n",
    "                worryLevel = int(ops.get(monkey[\"operation\"])(item, monkey[\"operationValue\"])) % diviser\n",
    "                if worryLevel % monkey[\"testValue\"] == 0:\n",
    "                    monkeys[monkey[\"trueMonkeyIndex\"]][\"items\"].append(worryLevel)\n",
    "                else:\n",
    "                    monkeys[monkey[\"falseMonkeyIndex\"]][\"items\"].append(worryLevel)\n",
    "                monkey[\"inspects\"] += 1   "
   ]
  },
  {
   "cell_type": "code",
   "execution_count": 350,
   "metadata": {},
   "outputs": [
    {
     "data": {
      "text/plain": [
       "20567144694"
      ]
     },
     "execution_count": 350,
     "metadata": {},
     "output_type": "execute_result"
    }
   ],
   "source": [
    "result = 1\n",
    "for item in sorted(monkeys.values(), key=lambda x: x[\"inspects\"], reverse=True)[:2]:\n",
    "    result *= item[\"inspects\"]\n",
    "result"
   ]
  },
  {
   "cell_type": "code",
   "execution_count": null,
   "metadata": {},
   "outputs": [],
   "source": []
  }
 ],
 "metadata": {
  "kernelspec": {
   "display_name": "base",
   "language": "python",
   "name": "python3"
  },
  "language_info": {
   "codemirror_mode": {
    "name": "ipython",
    "version": 3
   },
   "file_extension": ".py",
   "mimetype": "text/x-python",
   "name": "python",
   "nbconvert_exporter": "python",
   "pygments_lexer": "ipython3",
   "version": "3.9.7"
  },
  "orig_nbformat": 4,
  "vscode": {
   "interpreter": {
    "hash": "892f72137c0ea6d9db2f1b74b2485a88ba4fc111ae6ce58e499a734914c71b4b"
   }
  }
 },
 "nbformat": 4,
 "nbformat_minor": 2
}
