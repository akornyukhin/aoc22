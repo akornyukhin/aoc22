{
 "cells": [
  {
   "cell_type": "markdown",
   "id": "a20e55c0",
   "metadata": {},
   "source": [
    "# Challenge 1"
   ]
  },
  {
   "cell_type": "code",
   "execution_count": 3,
   "id": "ffc73036",
   "metadata": {},
   "outputs": [],
   "source": [
    "vilain = []\n",
    "hero = []\n",
    "with open(\"./data/data_d2.txt\") as f:\n",
    "    lines = f.readlines()\n",
    "\n",
    "for line in lines:\n",
    "    vilain.append(line.split()[0])\n",
    "    hero.append(line.split()[1])"
   ]
  },
  {
   "cell_type": "code",
   "execution_count": 8,
   "id": "f31c2b0d",
   "metadata": {},
   "outputs": [
    {
     "data": {
      "text/plain": [
       "9651"
      ]
     },
     "execution_count": 8,
     "metadata": {},
     "output_type": "execute_result"
    }
   ],
   "source": [
    "scoresDict = {\n",
    "    \"AX\": 1 + 3,\n",
    "    \"BX\": 1 + 0,\n",
    "    \"CX\": 1 + 6,\n",
    "    \"AY\": 2 + 6,\n",
    "    \"BY\": 2 + 3,\n",
    "    \"CY\": 2 + 0,\n",
    "    \"AZ\": 3 + 0,\n",
    "    \"BZ\": 3 + 6,\n",
    "    \"CZ\": 3 + 3\n",
    "}\n",
    "score = 0\n",
    "for i in range(0, len(vilain)):\n",
    "    score += scoresDict[vilain[i] + hero[i]]\n",
    "\n",
    "score"
   ]
  },
  {
   "cell_type": "markdown",
   "id": "30a1030d",
   "metadata": {},
   "source": [
    "# Challenge 2"
   ]
  },
  {
   "cell_type": "code",
   "execution_count": 11,
   "id": "1b69859d",
   "metadata": {},
   "outputs": [
    {
     "data": {
      "text/plain": [
       "10560"
      ]
     },
     "execution_count": 11,
     "metadata": {},
     "output_type": "execute_result"
    }
   ],
   "source": [
    "resultsDict = {\n",
    "    \"AZ\": \"Y\",\n",
    "    \"AY\": \"X\",\n",
    "    \"AX\": \"Z\",\n",
    "    \"BZ\": \"Z\",\n",
    "    \"BY\": \"Y\",\n",
    "    \"BX\": \"X\",\n",
    "    \"CZ\": \"X\",\n",
    "    \"CY\": \"Z\",\n",
    "    \"CX\": \"Y\",\n",
    "}\n",
    "score = 0\n",
    "for i in range(0, len(vilain)):\n",
    "    score += scoresDict[vilain[i] +resultsDict[vilain[i] + hero[i]]]\n",
    "\n",
    "score"
   ]
  },
  {
   "cell_type": "code",
   "execution_count": null,
   "id": "db207a1c",
   "metadata": {},
   "outputs": [],
   "source": []
  }
 ],
 "metadata": {
  "kernelspec": {
   "display_name": "Python 3 (ipykernel)",
   "language": "python",
   "name": "python3"
  },
  "language_info": {
   "codemirror_mode": {
    "name": "ipython",
    "version": 3
   },
   "file_extension": ".py",
   "mimetype": "text/x-python",
   "name": "python",
   "nbconvert_exporter": "python",
   "pygments_lexer": "ipython3",
   "version": "3.9.7"
  }
 },
 "nbformat": 4,
 "nbformat_minor": 5
}
