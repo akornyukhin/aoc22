{
 "cells": [
  {
   "cell_type": "code",
   "execution_count": 53,
   "metadata": {},
   "outputs": [],
   "source": [
    "with open(\"./data/data_d10.txt\") as f:\n",
    "    lines = f.readlines()\n",
    "\n",
    "for i in range(0, len(lines)):\n",
    "    lines[i] = lines[i].replace(\"\\n\", \"\")"
   ]
  },
  {
   "attachments": {},
   "cell_type": "markdown",
   "metadata": {},
   "source": [
    "# Challenge 1"
   ]
  },
  {
   "cell_type": "code",
   "execution_count": 54,
   "metadata": {},
   "outputs": [],
   "source": [
    "X = [1]\n",
    "\n",
    "for line in lines:\n",
    "    if line.split()[0] == \"noop\":\n",
    "        X.append(X[-1])\n",
    "    elif line.split()[0] == \"addx\":\n",
    "        X.append(X[-1])\n",
    "        X.append(X[-1] + int(line.split()[1]))\n",
    "       "
   ]
  },
  {
   "cell_type": "code",
   "execution_count": 55,
   "metadata": {},
   "outputs": [
    {
     "data": {
      "text/plain": [
       "16480"
      ]
     },
     "execution_count": 55,
     "metadata": {},
     "output_type": "execute_result"
    }
   ],
   "source": [
    "result = 0\n",
    "for i in range(20, 221, 40):\n",
    "    result += X[i-1] * i\n",
    "\n",
    "result"
   ]
  },
  {
   "attachments": {},
   "cell_type": "markdown",
   "metadata": {},
   "source": [
    "# Challenge 2"
   ]
  },
  {
   "cell_type": "code",
   "execution_count": 56,
   "metadata": {},
   "outputs": [
    {
     "name": "stdout",
     "output_type": "stream",
     "text": [
      "###..#....####.####.#..#.#....###..###..\n",
      "#..#.#....#....#....#..#.#....#..#.#..#.\n",
      "#..#.#....###..###..#..#.#....#..#.###..\n",
      "###..#....#....#....#..#.#....###..#..#.\n",
      "#....#....#....#....#..#.#....#....#..#.\n",
      "#....####.####.#.....##..####.#....###..\n"
     ]
    }
   ],
   "source": [
    "for i in range(0, 201, 40):\n",
    "    line = \"\"\n",
    "    for j in range(0, 40):\n",
    "        if j >= X[i+j]-1 and j <= X[i+j]+1:\n",
    "            line += \"#\"\n",
    "        else:\n",
    "            line += \".\"\n",
    "    print(line)"
   ]
  }
 ],
 "metadata": {
  "kernelspec": {
   "display_name": "base",
   "language": "python",
   "name": "python3"
  },
  "language_info": {
   "codemirror_mode": {
    "name": "ipython",
    "version": 3
   },
   "file_extension": ".py",
   "mimetype": "text/x-python",
   "name": "python",
   "nbconvert_exporter": "python",
   "pygments_lexer": "ipython3",
   "version": "3.9.7"
  },
  "orig_nbformat": 4,
  "vscode": {
   "interpreter": {
    "hash": "892f72137c0ea6d9db2f1b74b2485a88ba4fc111ae6ce58e499a734914c71b4b"
   }
  }
 },
 "nbformat": 4,
 "nbformat_minor": 2
}
