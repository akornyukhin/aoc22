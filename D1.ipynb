{
 "cells": [
  {
   "cell_type": "markdown",
   "id": "c9e12b59",
   "metadata": {},
   "source": [
    "# Challenge 1"
   ]
  },
  {
   "cell_type": "code",
   "execution_count": 43,
   "id": "5725de87",
   "metadata": {},
   "outputs": [],
   "source": [
    "with open(\"./data/data_d1.txt\") as f:\n",
    "    lines = f.readlines()"
   ]
  },
  {
   "cell_type": "code",
   "execution_count": 44,
   "id": "997f001d",
   "metadata": {},
   "outputs": [],
   "source": [
    "elfs_calories = {}\n",
    "currentElfId = 0\n",
    "currentElfCallories = 0\n",
    "for line in lines:\n",
    "    if len(line.split()) != 0:\n",
    "        currentElfCallories += int(line.split()[0])\n",
    "    else:\n",
    "        elfs_calories[\"elf_\" + str(currentElfId)] = currentElfCallories\n",
    "        currentElfId += 1\n",
    "        currentElfCallories = 0"
   ]
  },
  {
   "cell_type": "code",
   "execution_count": 46,
   "id": "9fac93e1",
   "metadata": {},
   "outputs": [
    {
     "data": {
      "text/plain": [
       "71471"
      ]
     },
     "execution_count": 46,
     "metadata": {},
     "output_type": "execute_result"
    }
   ],
   "source": [
    "max(elfs_calories.values())"
   ]
  },
  {
   "cell_type": "markdown",
   "id": "9d885f0d",
   "metadata": {},
   "source": [
    "# Challenge 2"
   ]
  },
  {
   "cell_type": "code",
   "execution_count": 45,
   "id": "67cb3ce9",
   "metadata": {},
   "outputs": [
    {
     "data": {
      "text/plain": [
       "211189"
      ]
     },
     "execution_count": 45,
     "metadata": {},
     "output_type": "execute_result"
    }
   ],
   "source": [
    "sum(sorted(elfs_calories.values(), reverse=True)[:3])"
   ]
  },
  {
   "cell_type": "code",
   "execution_count": null,
   "id": "1323b280",
   "metadata": {},
   "outputs": [],
   "source": []
  }
 ],
 "metadata": {
  "kernelspec": {
   "display_name": "Python 3 (ipykernel)",
   "language": "python",
   "name": "python3"
  },
  "language_info": {
   "codemirror_mode": {
    "name": "ipython",
    "version": 3
   },
   "file_extension": ".py",
   "mimetype": "text/x-python",
   "name": "python",
   "nbconvert_exporter": "python",
   "pygments_lexer": "ipython3",
   "version": "3.9.7"
  }
 },
 "nbformat": 4,
 "nbformat_minor": 5
}
