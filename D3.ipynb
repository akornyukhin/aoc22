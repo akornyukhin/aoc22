{
 "cells": [
  {
   "cell_type": "markdown",
   "id": "ea46e896",
   "metadata": {},
   "source": [
    "# Challenge 1"
   ]
  },
  {
   "cell_type": "code",
   "execution_count": 55,
   "id": "2d9599b5",
   "metadata": {},
   "outputs": [],
   "source": [
    "with open(\"./data/data_d3.txt\") as f:\n",
    "    lines = f.readlines()\n",
    "\n",
    "for i in range(0, len(lines)):\n",
    "    lines[i] = lines[i].replace(\"\\n\", \"\")"
   ]
  },
  {
   "cell_type": "code",
   "execution_count": 56,
   "id": "5c1455af",
   "metadata": {},
   "outputs": [],
   "source": [
    "from string import ascii_lowercase, ascii_uppercase"
   ]
  },
  {
   "cell_type": "code",
   "execution_count": 57,
   "id": "5f725614",
   "metadata": {},
   "outputs": [],
   "source": [
    "priorities = {}\n",
    "for i in range(0, len(ascii_lowercase)):\n",
    "    priorities[ascii_lowercase[i]] = i + 1\n",
    "    priorities[ascii_uppercase[i]] = i + 27"
   ]
  },
  {
   "cell_type": "code",
   "execution_count": 58,
   "id": "2dc278b8",
   "metadata": {},
   "outputs": [
    {
     "data": {
      "text/plain": [
       "8185"
      ]
     },
     "execution_count": 58,
     "metadata": {},
     "output_type": "execute_result"
    }
   ],
   "source": [
    "result = 0\n",
    "for line in lines:\n",
    "    midIndex = len(line) // 2\n",
    "    leftLineSet = set(line[:midIndex])\n",
    "    rightLineSet = set(line[midIndex:])\n",
    "    result += priorities[leftLineSet.intersection(rightLineSet).pop()]\n",
    "\n",
    "result"
   ]
  },
  {
   "cell_type": "markdown",
   "id": "fbe53a51",
   "metadata": {},
   "source": [
    "# Challenge 2"
   ]
  },
  {
   "cell_type": "code",
   "execution_count": 60,
   "id": "96538e63",
   "metadata": {},
   "outputs": [
    {
     "data": {
      "text/plain": [
       "2817"
      ]
     },
     "execution_count": 60,
     "metadata": {},
     "output_type": "execute_result"
    }
   ],
   "source": [
    "result = 0\n",
    "for i in range(0, len(lines), 3):\n",
    "    firstElf = set(lines[i])\n",
    "    secondElf = set(lines[i+1])\n",
    "    thirdElf = set(lines[i+2])\n",
    "\n",
    "    result += priorities[firstElf.intersection(secondElf).intersection(thirdElf).pop()]\n",
    "\n",
    "result"
   ]
  },
  {
   "cell_type": "code",
   "execution_count": null,
   "id": "e4019149",
   "metadata": {},
   "outputs": [],
   "source": []
  }
 ],
 "metadata": {
  "kernelspec": {
   "display_name": "Python 3 (ipykernel)",
   "language": "python",
   "name": "python3"
  },
  "language_info": {
   "codemirror_mode": {
    "name": "ipython",
    "version": 3
   },
   "file_extension": ".py",
   "mimetype": "text/x-python",
   "name": "python",
   "nbconvert_exporter": "python",
   "pygments_lexer": "ipython3",
   "version": "3.9.7"
  }
 },
 "nbformat": 4,
 "nbformat_minor": 5
}
