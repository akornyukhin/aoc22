{
 "cells": [
  {
   "cell_type": "markdown",
   "id": "c1ee18e1",
   "metadata": {},
   "source": [
    "# Challenge 1"
   ]
  },
  {
   "cell_type": "code",
   "execution_count": 69,
   "id": "69098127",
   "metadata": {},
   "outputs": [],
   "source": [
    "with open(\"./data/data_d8.txt\") as f:\n",
    "    lines = f.readlines()\n",
    "\n",
    "for i in range(0, len(lines)):\n",
    "    lines[i] = lines[i].replace(\"\\n\", \"\")"
   ]
  },
  {
   "cell_type": "code",
   "execution_count": 70,
   "id": "28928b09",
   "metadata": {},
   "outputs": [],
   "source": [
    "trees = [[int(char) for char in line] for line in lines]\n",
    "rows = len(trees)\n",
    "columns = len(trees[0])"
   ]
  },
  {
   "cell_type": "code",
   "execution_count": 71,
   "id": "dbbba401",
   "metadata": {},
   "outputs": [],
   "source": [
    "visible = set()\n",
    "totalVisibleTrees = rows * 2 + columns * 2 - 4"
   ]
  },
  {
   "cell_type": "code",
   "execution_count": 72,
   "id": "18d0a017",
   "metadata": {
    "scrolled": false
   },
   "outputs": [],
   "source": [
    "# Checking left\n",
    "for i in range(1, rows-1):\n",
    "    maxTree = trees[i][0]\n",
    "    for j in range(1, columns-1):\n",
    "        if trees[i][j] > maxTree:\n",
    "            visible.add((i, j))\n",
    "        maxTree = max(maxTree, trees[i][j])\n",
    "\n",
    "# Checking top\n",
    "for j in range(1, columns-1):\n",
    "    maxTree = trees[0][j]\n",
    "    for i in range(1, rows-1):\n",
    "        if trees[i][j] > maxTree:\n",
    "            visible.add((i, j))\n",
    "        maxTree = max(maxTree, trees[i][j])\n",
    "\n",
    "# Checking right\n",
    "for i in range(1, rows-1):\n",
    "    maxTree = trees[i][-1]\n",
    "    for j in range(columns-1, 0, -1):\n",
    "        if trees[i][j] > maxTree:\n",
    "            visible.add((i, j))\n",
    "        maxTree = max(maxTree, trees[i][j])\n",
    "\n",
    "# Checking bot\n",
    "for j in range(1, columns-1):\n",
    "    maxTree = trees[-1][j]\n",
    "    for i in range(rows-1, 0, -1):\n",
    "        if trees[i][j] > maxTree:\n",
    "            visible.add((i, j))\n",
    "        maxTree = max(maxTree, trees[i][j])"
   ]
  },
  {
   "cell_type": "code",
   "execution_count": 73,
   "id": "a8dea4e5",
   "metadata": {},
   "outputs": [
    {
     "data": {
      "text/plain": [
       "21"
      ]
     },
     "execution_count": 73,
     "metadata": {},
     "output_type": "execute_result"
    }
   ],
   "source": [
    "len(visible) + totalVisibleTrees"
   ]
  },
  {
   "cell_type": "markdown",
   "id": "b2c59f20",
   "metadata": {},
   "source": [
    "# Challenge 2"
   ]
  },
  {
   "cell_type": "code",
   "execution_count": 113,
   "id": "f50cd4c1",
   "metadata": {},
   "outputs": [],
   "source": [
    "def calculateScenicScore(treeRow, treeColumn):\n",
    "    vL = 0\n",
    "    vT = 0\n",
    "    vR = 0\n",
    "    vB = 0\n",
    "    \n",
    "    # Checking left\n",
    "    for i in range(treeColumn-1, -1, -1):\n",
    "        if trees[treeRow][i] < trees[treeRow][treeColumn]:\n",
    "            vL += 1\n",
    "        else:\n",
    "            vL += 1\n",
    "            break\n",
    "\n",
    "    # Checking top\n",
    "    for i in range(treeRow-1, -1, -1):\n",
    "        if trees[i][treeColumn] < trees[treeRow][treeColumn]:\n",
    "            vT += 1\n",
    "        else:\n",
    "            vT += 1\n",
    "            break\n",
    "\n",
    "    # Checking right\n",
    "    for i in range(treeColumn+1, columns):\n",
    "        if trees[treeRow][i] < trees[treeRow][treeColumn]:\n",
    "            vR += 1\n",
    "        else:\n",
    "            vR += 1\n",
    "            break\n",
    "\n",
    "    # Checking bot\n",
    "    for i in range(treeRow+1, rows):\n",
    "        if trees[i][treeColumn] < trees[treeRow][treeColumn]:\n",
    "            vB += 1\n",
    "        else:\n",
    "            vB += 1\n",
    "            break\n",
    "    \n",
    "    \n",
    "    return vL * vT * vR * vB"
   ]
  },
  {
   "cell_type": "code",
   "execution_count": 115,
   "id": "4b1bc6dc",
   "metadata": {
    "scrolled": false
   },
   "outputs": [
    {
     "data": {
      "text/plain": [
       "8"
      ]
     },
     "execution_count": 115,
     "metadata": {},
     "output_type": "execute_result"
    }
   ],
   "source": [
    "maxScore = 0\n",
    "for i in range(0, rows):\n",
    "    for j in range(0, columns):\n",
    "        maxScore = max(maxScore, calculateScenicScore(i, j))\n",
    "maxScore"
   ]
  },
  {
   "cell_type": "code",
   "execution_count": null,
   "id": "891803c8",
   "metadata": {},
   "outputs": [],
   "source": []
  }
 ],
 "metadata": {
  "kernelspec": {
   "display_name": "Python 3 (ipykernel)",
   "language": "python",
   "name": "python3"
  },
  "language_info": {
   "codemirror_mode": {
    "name": "ipython",
    "version": 3
   },
   "file_extension": ".py",
   "mimetype": "text/x-python",
   "name": "python",
   "nbconvert_exporter": "python",
   "pygments_lexer": "ipython3",
   "version": "3.9.7"
  }
 },
 "nbformat": 4,
 "nbformat_minor": 5
}
