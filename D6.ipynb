{
 "cells": [
  {
   "cell_type": "markdown",
   "id": "9bca3e9f",
   "metadata": {},
   "source": [
    "# Challenge 1"
   ]
  },
  {
   "cell_type": "code",
   "execution_count": 5,
   "id": "92eeedbd",
   "metadata": {},
   "outputs": [],
   "source": [
    "with open(\"./data/data_d6.txt\") as f:\n",
    "    line = f.readline()"
   ]
  },
  {
   "cell_type": "code",
   "execution_count": 28,
   "id": "cc76b239",
   "metadata": {},
   "outputs": [
    {
     "name": "stdout",
     "output_type": "stream",
     "text": [
      "{'c', 's', 'z', 'n'}\n",
      "1855\n"
     ]
    }
   ],
   "source": [
    "for i in range(0, len(line)):\n",
    "    if len(set(line[i:i+4])) == 4:\n",
    "        print(set(line[i:i+4]))\n",
    "        print(i+4)\n",
    "        break"
   ]
  },
  {
   "cell_type": "markdown",
   "id": "5880acc5",
   "metadata": {},
   "source": [
    "# Challenge 2"
   ]
  },
  {
   "cell_type": "code",
   "execution_count": null,
   "id": "0d40d3de",
   "metadata": {},
   "outputs": [],
   "source": []
  }
 ],
 "metadata": {
  "kernelspec": {
   "display_name": "Python 3 (ipykernel)",
   "language": "python",
   "name": "python3"
  },
  "language_info": {
   "codemirror_mode": {
    "name": "ipython",
    "version": 3
   },
   "file_extension": ".py",
   "mimetype": "text/x-python",
   "name": "python",
   "nbconvert_exporter": "python",
   "pygments_lexer": "ipython3",
   "version": "3.9.7"
  }
 },
 "nbformat": 4,
 "nbformat_minor": 5
}
