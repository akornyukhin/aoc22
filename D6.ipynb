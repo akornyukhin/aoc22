{
 "cells": [
  {
   "cell_type": "markdown",
   "id": "87848c0a",
   "metadata": {},
   "source": [
    "# Challenge 1"
   ]
  },
  {
   "cell_type": "code",
   "execution_count": 5,
   "id": "5f607299",
   "metadata": {},
   "outputs": [],
   "source": [
    "with open(\"./data/data_d6.txt\") as f:\n",
    "    line = f.readline()"
   ]
  },
  {
   "cell_type": "code",
   "execution_count": 28,
   "id": "7c8d47cb",
   "metadata": {},
   "outputs": [
    {
     "name": "stdout",
     "output_type": "stream",
     "text": [
      "{'c', 's', 'z', 'n'}\n",
      "1855\n"
     ]
    }
   ],
   "source": [
    "for i in range(0, len(line)):\n",
    "    if len(set(line[i:i+4])) == 4:\n",
    "        print(set(line[i:i+4]))\n",
    "        print(i+4)\n",
    "        break"
   ]
  },
  {
   "cell_type": "markdown",
   "id": "3b556f81",
   "metadata": {},
   "source": [
    "# Challenge 2"
   ]
  },
  {
   "cell_type": "code",
   "execution_count": 30,
   "id": "6a920f4c",
   "metadata": {},
   "outputs": [
    {
     "name": "stdout",
     "output_type": "stream",
     "text": [
      "{'s', 'z', 'f', 'b', 'v', 'w', 'c', 'm', 't', 'n', 'q', 'r', 'p', 'l'}\n",
      "3256\n"
     ]
    }
   ],
   "source": [
    "for i in range(0, len(line)):\n",
    "    if len(set(line[i:i+14])) == 14:\n",
    "        print(set(line[i:i+14]))\n",
    "        print(i+14)\n",
    "        break"
   ]
  },
  {
   "cell_type": "code",
   "execution_count": null,
   "id": "8214aa5d",
   "metadata": {},
   "outputs": [],
   "source": []
  }
 ],
 "metadata": {
  "kernelspec": {
   "display_name": "Python 3 (ipykernel)",
   "language": "python",
   "name": "python3"
  },
  "language_info": {
   "codemirror_mode": {
    "name": "ipython",
    "version": 3
   },
   "file_extension": ".py",
   "mimetype": "text/x-python",
   "name": "python",
   "nbconvert_exporter": "python",
   "pygments_lexer": "ipython3",
   "version": "3.9.7"
  }
 },
 "nbformat": 4,
 "nbformat_minor": 5
}
