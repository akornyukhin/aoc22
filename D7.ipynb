{
 "cells": [
  {
   "cell_type": "markdown",
   "id": "b259a174",
   "metadata": {},
   "source": [
    "# Challenge 1"
   ]
  },
  {
   "cell_type": "code",
   "execution_count": 949,
   "id": "471b6b31",
   "metadata": {},
   "outputs": [],
   "source": [
    "import re"
   ]
  },
  {
   "cell_type": "code",
   "execution_count": 950,
   "id": "b1044a46",
   "metadata": {},
   "outputs": [],
   "source": [
    "with open(\"./data/data_d7.txt\") as f:\n",
    "    lines = f.readlines()\n",
    "\n",
    "for i in range(0, len(lines)):\n",
    "    lines[i] = lines[i].replace(\"\\n\", \"\")"
   ]
  },
  {
   "cell_type": "code",
   "execution_count": 951,
   "id": "84d0f578",
   "metadata": {},
   "outputs": [],
   "source": [
    "class Directory:\n",
    "    def __init__(self, name: str):\n",
    "        self.name = name\n",
    "        self.subDirs = {}\n",
    "        self.files = []\n",
    "        self.size = 0\n",
    "        self.totalSize = 0\n",
    "        \n",
    "    def __str__(self):\n",
    "        return (str({\"name\": self.name,\n",
    "                     \"subDirs\": self.subDirs,\n",
    "                     \"files\": self.files,\n",
    "                     \"size\": self.size,\n",
    "                     \"totalSize\": self.totalSize}))\n",
    "        \n",
    "    def addDir(self, name: str):\n",
    "        self.subDirs[name] = Directory(name)\n",
    "        \n",
    "    def findDir(self, name: str):\n",
    "        return self.subDirs.get(name, None)\n",
    "        \n",
    "    def addFile(self, name: str, size: int):\n",
    "        self.files += [(size, name)]\n",
    "        \n",
    "    def calculateSize(self):\n",
    "        self.size = sum([size for size, _ in self.files])\n",
    "    \n",
    "    def setTotalSize(self, size: int):\n",
    "        self.totalSize = size"
   ]
  },
  {
   "cell_type": "code",
   "execution_count": 952,
   "id": "7832a6a0",
   "metadata": {},
   "outputs": [],
   "source": [
    "fileSystem = {}\n",
    "currPath = []\n",
    "for line in lines:\n",
    "    if line.split()[0] == \"$\" and line.split()[1] == \"cd\" and line.split()[2] != \"..\":\n",
    "        currPath += [line.split()[2]]\n",
    "        fileSystem[\"_\".join(currPath)] = []\n",
    "    elif line.split()[0] == \"$\" and line.split()[1] == \"cd\":\n",
    "        currPath.pop()\n",
    "    elif re.search(\"[0-9]\", line.split()[0]):\n",
    "        fileSystem[\"_\".join(currPath)] += [(int(line.split()[0]), line.split()[1])]"
   ]
  },
  {
   "cell_type": "code",
   "execution_count": 953,
   "id": "d0ad8a0c",
   "metadata": {},
   "outputs": [],
   "source": [
    "folders = Directory(\"/\")\n",
    "for file in fileSystem[\"/\"]:\n",
    "    folders.addFile(file[1], file[0])\n",
    "folders.size = sum([size for size, _ in folders.files])"
   ]
  },
  {
   "cell_type": "code",
   "execution_count": 954,
   "id": "cfeda65e",
   "metadata": {},
   "outputs": [],
   "source": [
    "for key, value in fileSystem.items():\n",
    "    if key == \"/\":\n",
    "        pass\n",
    "    \n",
    "    currentFolder = folders\n",
    "    for subFolder in key.split(\"_\")[1:]:\n",
    "        if currentFolder.findDir(subFolder):\n",
    "            currentFolder = currentFolder.findDir(subFolder)\n",
    "        else:\n",
    "            currentFolder.addDir(subFolder)\n",
    "            currentFolder = currentFolder.findDir(subFolder)\n",
    "            for file in value:\n",
    "                currentFolder.addFile(file[1], file[0])\n",
    "                currentFolder.calculateSize()"
   ]
  },
  {
   "cell_type": "code",
   "execution_count": 955,
   "id": "31d375fb",
   "metadata": {},
   "outputs": [],
   "source": [
    "def calculateTotalSize(folders):\n",
    "    if len(folders.subDirs) == 0:\n",
    "        folders.setTotalSize(folders.size)\n",
    "        return folders.totalSize\n",
    "    \n",
    "    sum_ = folders.size\n",
    "    queue = [folder for folder in folders.subDirs.values()]\n",
    "    while queue:\n",
    "        folder = queue.pop(0)\n",
    "        sum_ += calculateTotalSize(folder)\n",
    "    folders.setTotalSize(sum_)\n",
    "        \n",
    "    return sum_"
   ]
  },
  {
   "cell_type": "code",
   "execution_count": 957,
   "id": "078a9c53",
   "metadata": {},
   "outputs": [],
   "source": [
    "def calculateChAnswer(folders):\n",
    "    if len(folders.subDirs) == 0:\n",
    "        return 0\n",
    "    \n",
    "    sum_ = 0\n",
    "    queue = [folder for folder in folders.subDirs.values()]\n",
    "    while queue:\n",
    "        folder = queue.pop(0)\n",
    "        if folder.totalSize <= 100000:\n",
    "            sum_ += folder.totalSize + calculateChAnswer(folder)\n",
    "        else:\n",
    "            sum_ += calculateChAnswer(folder)\n",
    "            \n",
    "    return sum_\n",
    "    "
   ]
  },
  {
   "cell_type": "code",
   "execution_count": 958,
   "id": "a52fa3f4",
   "metadata": {},
   "outputs": [
    {
     "name": "stdout",
     "output_type": "stream",
     "text": [
      "1297683\n"
     ]
    }
   ],
   "source": [
    "print(calculateChAnswer(folders))"
   ]
  },
  {
   "cell_type": "markdown",
   "id": "b6359c12",
   "metadata": {},
   "source": [
    "# Challenge 2"
   ]
  },
  {
   "cell_type": "code",
   "execution_count": 989,
   "id": "3242e833",
   "metadata": {},
   "outputs": [],
   "source": [
    "neededSpace = 30000000 - (70000000 - folders.totalSize)"
   ]
  },
  {
   "cell_type": "code",
   "execution_count": 990,
   "id": "845ea3f5",
   "metadata": {},
   "outputs": [],
   "source": [
    "def findLowestToDelte(folders):\n",
    "    if len(folders.subDirs) == 0:\n",
    "        if folders.totalSize >= neededSpace:\n",
    "            return [folders.totalSize]\n",
    "    \n",
    "    candidates = []\n",
    "    if folders.totalSize >= neededSpace:\n",
    "        candidates.append(folders.totalSize)\n",
    "        \n",
    "    queue = [folder for folder in folders.subDirs.values()]\n",
    "    while queue:\n",
    "        folder = queue.pop(0)\n",
    "        candidates += findLowestToDelte(folder)\n",
    "        \n",
    "    return candidates"
   ]
  },
  {
   "cell_type": "code",
   "execution_count": 991,
   "id": "8222e4db",
   "metadata": {},
   "outputs": [
    {
     "data": {
      "text/plain": [
       "5756764"
      ]
     },
     "execution_count": 991,
     "metadata": {},
     "output_type": "execute_result"
    }
   ],
   "source": [
    "min(findLowestToDelte(folders))"
   ]
  },
  {
   "cell_type": "markdown",
   "id": "3b086d1b",
   "metadata": {},
   "source": [
    "# A really great solution from reddit"
   ]
  },
  {
   "cell_type": "code",
   "execution_count": 1006,
   "id": "2c948604",
   "metadata": {
    "scrolled": false
   },
   "outputs": [
    {
     "name": "stdout",
     "output_type": "stream",
     "text": [
      "1297683\n",
      "5756764\n"
     ]
    }
   ],
   "source": [
    "from collections import defaultdict\n",
    "from itertools import accumulate\n",
    "from operator import concat\n",
    "\n",
    "total_space = 70000000\n",
    "required_space = 30000000\n",
    "max_size = 100000\n",
    "curr_dir_path = list()\n",
    "dir_tree = {}\n",
    "\n",
    "\n",
    "def keep_useful_info(entry):\n",
    "    # keep only directory changes and file size\n",
    "    return (True, entry[1]) if entry[0] == \"$ cd\" else (False, int(entry[0])) if entry[0][0].isdigit() else None\n",
    "\n",
    "\n",
    "with open(\"./data/data_d7.txt\", 'r') as file:\n",
    "    commands = filter(bool, map(keep_useful_info, (line.strip('\\n').rsplit(' ', 1) for line in file)))\n",
    "    while True:\n",
    "        try:\n",
    "            change_dir, info = next(commands)\n",
    "            if change_dir:\n",
    "                curr_dir_path.pop() if info == \"..\" else curr_dir_path.append(info)\n",
    "            else:\n",
    "                for directory in accumulate(curr_dir_path, concat):  # the name of a directory is its path\n",
    "                    dir_tree[directory] = dir_tree.get(directory, 0) + info\n",
    "        except StopIteration:\n",
    "            break\n",
    "\n",
    "# PART ONE\n",
    "print(sum(filter(lambda x: x <= max_size, dir_tree.values())))\n",
    "\n",
    "# PART TWO\n",
    "to_del_space = required_space - (total_space - dir_tree[\"/\"])  # required space - free space\n",
    "print(to_del_space + min(filter(lambda x: x >= 0, map(lambda dir_size: dir_size - to_del_space, dir_tree.values()))))"
   ]
  },
  {
   "cell_type": "code",
   "execution_count": null,
   "id": "0287136b",
   "metadata": {},
   "outputs": [],
   "source": []
  },
  {
   "cell_type": "code",
   "execution_count": 1014,
   "id": "4e6aa3fb",
   "metadata": {},
   "outputs": [
    {
     "ename": "IndexError",
     "evalue": "list index out of range",
     "output_type": "error",
     "traceback": [
      "\u001b[0;31m---------------------------------------------------------------------------\u001b[0m",
      "\u001b[0;31mIndexError\u001b[0m                                Traceback (most recent call last)",
      "\u001b[0;32m/var/folders/h2/jdt746154fs689bjrh2_f3b40000gn/T/ipykernel_56434/4185992300.py\u001b[0m in \u001b[0;36m<module>\u001b[0;34m\u001b[0m\n\u001b[1;32m     19\u001b[0m   \u001b[0;31m# Otherwise, it is a file\u001b[0m\u001b[0;34m\u001b[0m\u001b[0;34m\u001b[0m\u001b[0m\n\u001b[1;32m     20\u001b[0m   \u001b[0;32melse\u001b[0m\u001b[0;34m:\u001b[0m\u001b[0;34m\u001b[0m\u001b[0;34m\u001b[0m\u001b[0m\n\u001b[0;32m---> 21\u001b[0;31m     \u001b[0mfiles\u001b[0m\u001b[0;34m.\u001b[0m\u001b[0mappend\u001b[0m\u001b[0;34m(\u001b[0m\u001b[0;34m(\u001b[0m\u001b[0mwords\u001b[0m\u001b[0;34m[\u001b[0m\u001b[0;36m1\u001b[0m\u001b[0;34m]\u001b[0m\u001b[0;34m,\u001b[0m \u001b[0mint\u001b[0m\u001b[0;34m(\u001b[0m\u001b[0mwords\u001b[0m\u001b[0;34m[\u001b[0m\u001b[0;36m0\u001b[0m\u001b[0;34m]\u001b[0m\u001b[0;34m)\u001b[0m\u001b[0;34m)\u001b[0m\u001b[0;34m)\u001b[0m\u001b[0;34m\u001b[0m\u001b[0;34m\u001b[0m\u001b[0m\n\u001b[0m\u001b[1;32m     22\u001b[0m \u001b[0;34m\u001b[0m\u001b[0m\n\u001b[1;32m     23\u001b[0m \u001b[0;31m# Initialize the sum of sizes of directories with a total size of at most 100000\u001b[0m\u001b[0;34m\u001b[0m\u001b[0;34m\u001b[0m\u001b[0m\n",
      "\u001b[0;31mIndexError\u001b[0m: list index out of range"
     ]
    }
   ],
   "source": [
    "# Parse the input and extract the list of directories and files\n",
    "directories = []\n",
    "files = []\n",
    "\n",
    "# Read the input\n",
    "input_string = \"./data/data_d7.txt\"\n",
    "\n",
    "# Split the input into lines\n",
    "lines = input_string.split(\"\\n\")\n",
    "\n",
    "# Parse the lines\n",
    "for line in lines:\n",
    "  # Split the line into words\n",
    "  words = line.split(\" \")\n",
    "\n",
    "  # If the line starts with \"cd\", it is a directory\n",
    "  if words[0] == \"cd\":\n",
    "    directories.append(words[1])\n",
    "  # Otherwise, it is a file\n",
    "  else:\n",
    "    files.append((words[1], int(words[0])))\n",
    "\n",
    "# Initialize the sum of sizes of directories with a total size of at most 100000\n",
    "result = 0\n",
    "\n",
    "# Initialize the list of visited directories\n",
    "visited_directories = []\n",
    "\n",
    "# Iterate over the directories and calculate their sizes\n",
    "for directory in directories:\n",
    "  # Check if the directory has already been visited\n",
    "  if directory in visited_directories:\n",
    "    continue\n",
    "\n",
    "  # Initialize the size of the directory\n",
    "  directory_size = 0\n",
    "\n",
    "  # Iterate over the files and add the sizes of the files in the directory\n",
    "  for file in files:\n",
    "    # Extract the name and size of the file\n",
    "    file_name, file_size = file\n",
    "\n",
    "    # Check if the file is in the current directory\n",
    "    if file_name.startswith(directory):\n",
    "      # Add the size of the file to the size of the directory\n",
    "      directory_size += file_size\n",
    "\n",
    "  # Add the directory to the list of visited directories\n",
    "  visited_directories.append(directory)\n",
    "\n",
    "  # Check if the size of the directory is at most 100000\n",
    "  if directory_size <= 100000:\n",
    "    # If it is, add its size to the final result\n",
    "    result += directory_size\n",
    "\n",
    "# Print the final result\n",
    "print(result)"
   ]
  },
  {
   "cell_type": "code",
   "execution_count": null,
   "id": "75e0bf5d",
   "metadata": {},
   "outputs": [],
   "source": []
  },
  {
   "cell_type": "code",
   "execution_count": null,
   "id": "44ce99c9",
   "metadata": {},
   "outputs": [],
   "source": []
  }
 ],
 "metadata": {
  "kernelspec": {
   "display_name": "Python 3 (ipykernel)",
   "language": "python",
   "name": "python3"
  },
  "language_info": {
   "codemirror_mode": {
    "name": "ipython",
    "version": 3
   },
   "file_extension": ".py",
   "mimetype": "text/x-python",
   "name": "python",
   "nbconvert_exporter": "python",
   "pygments_lexer": "ipython3",
   "version": "3.9.7"
  }
 },
 "nbformat": 4,
 "nbformat_minor": 5
}
