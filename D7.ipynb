{
 "cells": [
  {
   "cell_type": "markdown",
   "id": "b259a174",
   "metadata": {},
   "source": [
    "# Challenge 1"
   ]
  },
  {
   "cell_type": "code",
   "execution_count": 949,
   "id": "471b6b31",
   "metadata": {},
   "outputs": [],
   "source": [
    "import re"
   ]
  },
  {
   "cell_type": "code",
   "execution_count": 950,
   "id": "b1044a46",
   "metadata": {},
   "outputs": [],
   "source": [
    "with open(\"./data/data_d7.txt\") as f:\n",
    "    lines = f.readlines()\n",
    "\n",
    "for i in range(0, len(lines)):\n",
    "    lines[i] = lines[i].replace(\"\\n\", \"\")"
   ]
  },
  {
   "cell_type": "code",
   "execution_count": 951,
   "id": "84d0f578",
   "metadata": {},
   "outputs": [],
   "source": [
    "class Directory:\n",
    "    def __init__(self, name: str):\n",
    "        self.name = name\n",
    "        self.subDirs = {}\n",
    "        self.files = []\n",
    "        self.size = 0\n",
    "        self.totalSize = 0\n",
    "        \n",
    "    def __str__(self):\n",
    "        return (str({\"name\": self.name,\n",
    "                     \"subDirs\": self.subDirs,\n",
    "                     \"files\": self.files,\n",
    "                     \"size\": self.size,\n",
    "                     \"totalSize\": self.totalSize}))\n",
    "        \n",
    "    def addDir(self, name: str):\n",
    "        self.subDirs[name] = Directory(name)\n",
    "        \n",
    "    def findDir(self, name: str):\n",
    "        return self.subDirs.get(name, None)\n",
    "        \n",
    "    def addFile(self, name: str, size: int):\n",
    "        self.files += [(size, name)]\n",
    "        \n",
    "    def calculateSize(self):\n",
    "        self.size = sum([size for size, _ in self.files])\n",
    "    \n",
    "    def setTotalSize(self, size: int):\n",
    "        self.totalSize = size"
   ]
  },
  {
   "cell_type": "code",
   "execution_count": 952,
   "id": "7832a6a0",
   "metadata": {},
   "outputs": [],
   "source": [
    "fileSystem = {}\n",
    "currPath = []\n",
    "for line in lines:\n",
    "    if line.split()[0] == \"$\" and line.split()[1] == \"cd\" and line.split()[2] != \"..\":\n",
    "        currPath += [line.split()[2]]\n",
    "        fileSystem[\"_\".join(currPath)] = []\n",
    "    elif line.split()[0] == \"$\" and line.split()[1] == \"cd\":\n",
    "        currPath.pop()\n",
    "    elif re.search(\"[0-9]\", line.split()[0]):\n",
    "        fileSystem[\"_\".join(currPath)] += [(int(line.split()[0]), line.split()[1])]"
   ]
  },
  {
   "cell_type": "code",
   "execution_count": 953,
   "id": "d0ad8a0c",
   "metadata": {},
   "outputs": [],
   "source": [
    "folders = Directory(\"/\")\n",
    "for file in fileSystem[\"/\"]:\n",
    "    folders.addFile(file[1], file[0])\n",
    "folders.size = sum([size for size, _ in folders.files])"
   ]
  },
  {
   "cell_type": "code",
   "execution_count": 954,
   "id": "cfeda65e",
   "metadata": {},
   "outputs": [],
   "source": [
    "for key, value in fileSystem.items():\n",
    "    if key == \"/\":\n",
    "        pass\n",
    "    \n",
    "    currentFolder = folders\n",
    "    for subFolder in key.split(\"_\")[1:]:\n",
    "        if currentFolder.findDir(subFolder):\n",
    "            currentFolder = currentFolder.findDir(subFolder)\n",
    "        else:\n",
    "            currentFolder.addDir(subFolder)\n",
    "            currentFolder = currentFolder.findDir(subFolder)\n",
    "            for file in value:\n",
    "                currentFolder.addFile(file[1], file[0])\n",
    "                currentFolder.calculateSize()"
   ]
  },
  {
   "cell_type": "code",
   "execution_count": 955,
   "id": "31d375fb",
   "metadata": {},
   "outputs": [],
   "source": [
    "def calculateTotalSize(folders):\n",
    "    if len(folders.subDirs) == 0:\n",
    "        folders.setTotalSize(folders.size)\n",
    "        return folders.totalSize\n",
    "    \n",
    "    sum_ = folders.size\n",
    "    queue = [folder for folder in folders.subDirs.values()]\n",
    "    while queue:\n",
    "        folder = queue.pop(0)\n",
    "        sum_ += calculateTotalSize(folder)\n",
    "    folders.setTotalSize(sum_)\n",
    "        \n",
    "    return sum_"
   ]
  },
  {
   "cell_type": "code",
   "execution_count": 956,
   "id": "efc3af55",
   "metadata": {},
   "outputs": [
    {
     "data": {
      "text/plain": [
       "44804833"
      ]
     },
     "execution_count": 956,
     "metadata": {},
     "output_type": "execute_result"
    }
   ],
   "source": [
    "calculateTotalSize(folders)"
   ]
  },
  {
   "cell_type": "code",
   "execution_count": 957,
   "id": "078a9c53",
   "metadata": {},
   "outputs": [],
   "source": [
    "def calculateChAnswer(folders):\n",
    "    if len(folders.subDirs) == 0:\n",
    "        return 0\n",
    "    \n",
    "    sum_ = 0\n",
    "    queue = [folder for folder in folders.subDirs.values()]\n",
    "    while queue:\n",
    "        folder = queue.pop(0)\n",
    "        if folder.totalSize <= 100000:\n",
    "            sum_ += folder.totalSize + calculateChAnswer(folder)\n",
    "        else:\n",
    "            sum_ += calculateChAnswer(folder)\n",
    "            \n",
    "    return sum_\n",
    "    "
   ]
  },
  {
   "cell_type": "code",
   "execution_count": 958,
   "id": "a52fa3f4",
   "metadata": {},
   "outputs": [
    {
     "name": "stdout",
     "output_type": "stream",
     "text": [
      "1297683\n"
     ]
    }
   ],
   "source": [
    "print(calculateChAnswer(folders))"
   ]
  },
  {
   "cell_type": "markdown",
   "id": "b6359c12",
   "metadata": {},
   "source": [
    "# Challenge 2"
   ]
  },
  {
   "cell_type": "code",
   "execution_count": 963,
   "id": "d2838b1e",
   "metadata": {},
   "outputs": [
    {
     "name": "stdout",
     "output_type": "stream",
     "text": [
      "44804833\n"
     ]
    }
   ],
   "source": [
    "print(folders.totalSize)"
   ]
  },
  {
   "cell_type": "code",
   "execution_count": 962,
   "id": "3242e833",
   "metadata": {},
   "outputs": [
    {
     "name": "stdout",
     "output_type": "stream",
     "text": [
      "4804833\n"
     ]
    }
   ],
   "source": [
    "neededSpace = 30000000 - (70000000 - folders.totalSize)\n",
    "print(neededSpace)"
   ]
  },
  {
   "cell_type": "code",
   "execution_count": 986,
   "id": "845ea3f5",
   "metadata": {},
   "outputs": [],
   "source": [
    "def findLowestToDelte(folders):\n",
    "    if len(folders.subDirs) == 0:\n",
    "        if folders.totalSize >= neededSpace:\n",
    "            return [folders.totalSize]\n",
    "    \n",
    "    candidates = []\n",
    "    if folders.totalSize >= neededSpace:\n",
    "        candidates.append(folders.totalSize)\n",
    "        \n",
    "    queue = [folder for folder in folders.subDirs.values()]\n",
    "    while queue:\n",
    "        folder = queue.pop(0)\n",
    "        candidates += findLowestToDelte(folder)\n",
    "        \n",
    "    return candidates"
   ]
  },
  {
   "cell_type": "code",
   "execution_count": 987,
   "id": "ce72eff0",
   "metadata": {
    "scrolled": true
   },
   "outputs": [
    {
     "data": {
      "text/plain": [
       "[44804833,\n",
       " 43189731,\n",
       " 11152310,\n",
       " 9735449,\n",
       " 8050397,\n",
       " 7638482,\n",
       " 5756764,\n",
       " 6600089,\n",
       " 11351037,\n",
       " 9427614]"
      ]
     },
     "execution_count": 987,
     "metadata": {},
     "output_type": "execute_result"
    }
   ],
   "source": [
    "findLowestToDelte(folders)"
   ]
  },
  {
   "cell_type": "code",
   "execution_count": null,
   "id": "4b906f10",
   "metadata": {},
   "outputs": [],
   "source": []
  },
  {
   "cell_type": "code",
   "execution_count": 970,
   "id": "8222e4db",
   "metadata": {},
   "outputs": [
    {
     "data": {
      "text/plain": [
       "44804833"
      ]
     },
     "execution_count": 970,
     "metadata": {},
     "output_type": "execute_result"
    }
   ],
   "source": [
    "min(findLowestToDelte(folders))"
   ]
  },
  {
   "cell_type": "code",
   "execution_count": null,
   "id": "f2a09aa8",
   "metadata": {},
   "outputs": [],
   "source": []
  }
 ],
 "metadata": {
  "kernelspec": {
   "display_name": "Python 3 (ipykernel)",
   "language": "python",
   "name": "python3"
  },
  "language_info": {
   "codemirror_mode": {
    "name": "ipython",
    "version": 3
   },
   "file_extension": ".py",
   "mimetype": "text/x-python",
   "name": "python",
   "nbconvert_exporter": "python",
   "pygments_lexer": "ipython3",
   "version": "3.9.7"
  }
 },
 "nbformat": 4,
 "nbformat_minor": 5
}
